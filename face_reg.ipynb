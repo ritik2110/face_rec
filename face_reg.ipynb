{
 "cells": [
  {
   "cell_type": "code",
   "execution_count": null,
   "source": [
    "from tensorflow.keras.applications.vgg19 import VGG19\r\n",
    "from tensorflow.keras.layers import Flatten, Dense\r\n",
    "from tensorflow.keras.preprocessing.image import ImageDataGenerator\r\n",
    "from tensorflow.keras.models import Model\r\n",
    "from glob import glob\r\n"
   ],
   "outputs": [],
   "metadata": {}
  },
  {
   "cell_type": "code",
   "execution_count": 38,
   "source": [
    "INPUT_SHAPE = [224, 244]\r\n",
    "train_path = '../data/Images/train/'\r\n",
    "test_path = '../data/Images/test/'"
   ],
   "outputs": [],
   "metadata": {}
  },
  {
   "cell_type": "code",
   "execution_count": 29,
   "source": [
    "vgg_model = VGG19(include_top = False, weights = 'imagenet', input_shape = INPUT_SHAPE + [3])"
   ],
   "outputs": [],
   "metadata": {}
  },
  {
   "cell_type": "code",
   "execution_count": 30,
   "source": [
    "for layer in vgg_model.layers:\r\n",
    "    layer.trainable = False"
   ],
   "outputs": [],
   "metadata": {}
  },
  {
   "cell_type": "code",
   "execution_count": 40,
   "source": [
    "folder = glob(train_path + '*')\r\n",
    "len(folder)"
   ],
   "outputs": [
    {
     "output_type": "execute_result",
     "data": {
      "text/plain": [
       "6"
      ]
     },
     "metadata": {},
     "execution_count": 40
    }
   ],
   "metadata": {}
  },
  {
   "cell_type": "code",
   "execution_count": 32,
   "source": [
    "x = Flatten()(vgg_model.output)"
   ],
   "outputs": [],
   "metadata": {}
  },
  {
   "cell_type": "code",
   "execution_count": 33,
   "source": [
    "pred = Dense (len(folder), activation = 'softmax')(x)"
   ],
   "outputs": [],
   "metadata": {}
  },
  {
   "cell_type": "code",
   "execution_count": 34,
   "source": [
    "model = Model(inputs = vgg_model.input, outputs = pred)"
   ],
   "outputs": [],
   "metadata": {}
  },
  {
   "cell_type": "code",
   "execution_count": null,
   "source": [
    "model.summary()"
   ],
   "outputs": [],
   "metadata": {}
  },
  {
   "cell_type": "code",
   "execution_count": 35,
   "source": [
    "model.compile(\r\n",
    "    optimizer = 'adam', \r\n",
    "    loss = 'categorical_crossentropy',\r\n",
    "    metrics = 'accuracy'\r\n",
    ")"
   ],
   "outputs": [],
   "metadata": {}
  },
  {
   "cell_type": "code",
   "execution_count": 41,
   "source": [
    "img_arg = ImageDataGenerator (\r\n",
    "    rescale = 1./255,\r\n",
    "    shear_range = 0.2, \r\n",
    "    zoom_range = 0.2, \r\n",
    "    horizontal_flip = True\r\n",
    ")\r\n",
    "img_test = ImageDataGenerator(\r\n",
    "    rescale = 1./255\r\n",
    ")"
   ],
   "outputs": [],
   "metadata": {}
  },
  {
   "cell_type": "code",
   "execution_count": 42,
   "source": [
    "train_set = img_arg.flow_from_directory(train_path, batch_size = 32, target_size =(224, 224), class_mode = 'categorical')\r\n",
    "test_set = img_test.flow_from_directory(test_path, batch_size = 32, target_size =(224, 224), class_mode = 'categorical')"
   ],
   "outputs": [
    {
     "output_type": "stream",
     "name": "stdout",
     "text": [
      "Found 644 images belonging to 6 classes.\n",
      "Found 150 images belonging to 6 classes.\n"
     ]
    }
   ],
   "metadata": {}
  },
  {
   "cell_type": "code",
   "execution_count": 43,
   "source": [
    "hist = model.fit_generator(train_set, validation_data = test_set, epochs = 10, steps_per_epoch=len(train_set), validation_steps = len(test_set))"
   ],
   "outputs": [
    {
     "output_type": "stream",
     "name": "stderr",
     "text": [
      "C:\\Users\\91907\\AppData\\Local\\Programs\\Python\\Python38\\lib\\site-packages\\tensorflow\\python\\keras\\engine\\training.py:1844: UserWarning: `Model.fit_generator` is deprecated and will be removed in a future version. Please use `Model.fit`, which supports generators.\n",
      "  warnings.warn('`Model.fit_generator` is deprecated and '\n"
     ]
    },
    {
     "output_type": "stream",
     "name": "stdout",
     "text": [
      "Epoch 1/10\n",
      "21/21 [==============================] - 212s 10s/step - loss: 2.0615 - accuracy: 0.3088 - val_loss: 0.7012 - val_accuracy: 0.7600\n",
      "Epoch 2/10\n",
      "21/21 [==============================] - 200s 10s/step - loss: 0.6419 - accuracy: 0.7843 - val_loss: 0.3592 - val_accuracy: 0.8800\n",
      "Epoch 3/10\n",
      "21/21 [==============================] - 198s 9s/step - loss: 0.3732 - accuracy: 0.8826 - val_loss: 0.2842 - val_accuracy: 0.9200\n",
      "Epoch 4/10\n",
      "21/21 [==============================] - 197s 9s/step - loss: 0.2886 - accuracy: 0.9304 - val_loss: 0.2204 - val_accuracy: 0.9333\n",
      "Epoch 5/10\n",
      "21/21 [==============================] - 196s 9s/step - loss: 0.1904 - accuracy: 0.9552 - val_loss: 0.2271 - val_accuracy: 0.9333\n",
      "Epoch 6/10\n",
      "21/21 [==============================] - 198s 9s/step - loss: 0.1461 - accuracy: 0.9679 - val_loss: 0.2021 - val_accuracy: 0.9400\n",
      "Epoch 7/10\n",
      "21/21 [==============================] - 198s 9s/step - loss: 0.1229 - accuracy: 0.9848 - val_loss: 0.1693 - val_accuracy: 0.9400\n",
      "Epoch 8/10\n",
      "21/21 [==============================] - 198s 10s/step - loss: 0.0850 - accuracy: 0.9939 - val_loss: 0.1809 - val_accuracy: 0.9333\n",
      "Epoch 9/10\n",
      "21/21 [==============================] - 197s 9s/step - loss: 0.0830 - accuracy: 0.9882 - val_loss: 0.1681 - val_accuracy: 0.9467\n",
      "Epoch 10/10\n",
      "21/21 [==============================] - 197s 9s/step - loss: 0.0763 - accuracy: 0.9940 - val_loss: 0.1646 - val_accuracy: 0.9400\n"
     ]
    }
   ],
   "metadata": {}
  },
  {
   "cell_type": "code",
   "execution_count": 44,
   "source": [
    "model.save('./faceModel.h5')"
   ],
   "outputs": [],
   "metadata": {}
  },
  {
   "cell_type": "code",
   "execution_count": null,
   "source": [],
   "outputs": [],
   "metadata": {}
  }
 ],
 "metadata": {
  "orig_nbformat": 4,
  "language_info": {
   "name": "python",
   "version": "3.8.0",
   "mimetype": "text/x-python",
   "codemirror_mode": {
    "name": "ipython",
    "version": 3
   },
   "pygments_lexer": "ipython3",
   "nbconvert_exporter": "python",
   "file_extension": ".py"
  },
  "kernelspec": {
   "name": "python3",
   "display_name": "Python 3.8.0 64-bit"
  },
  "interpreter": {
   "hash": "704a2bedef6accda5fc0e28f89690d920447c83af2a784c554859e0bb9447ab8"
  }
 },
 "nbformat": 4,
 "nbformat_minor": 2
}